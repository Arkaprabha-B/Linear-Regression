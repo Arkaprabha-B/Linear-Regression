{
 "cells": [
  {
   "cell_type": "markdown",
   "metadata": {},
   "source": [
    "## Necessary Imports"
   ]
  },
  {
   "cell_type": "code",
   "execution_count": 38,
   "metadata": {},
   "outputs": [],
   "source": [
    "import pandas as pd\n",
    "import numpy as np\n",
    "\n",
    "import matplotlib.pyplot as plt\n",
    "import seaborn as sns\n",
    "\n",
    "from sklearn import preprocessing\n",
    "from sklearn.impute import SimpleImputer\n",
    "\n",
    "from sklearn.compose import ColumnTransformer\n",
    "\n",
    "from sklearn.preprocessing import StandardScaler\n",
    "from sklearn.preprocessing import OneHotEncoder\n",
    "from sklearn.model_selection import train_test_split\n",
    "from sklearn.pipeline import Pipeline\n",
    "from sklearn.model_selection import GridSearchCV, cross_val_score, StratifiedKFold\n",
    "\n",
    "from sklearn.linear_model import LogisticRegression\n",
    "from imblearn.over_sampling import SMOTE\n",
    "from sklearn.metrics import accuracy_score, recall_score, precision_score\n",
    "\n",
    "import warnings\n",
    "warnings.filterwarnings('ignore')"
   ]
  },
  {
   "cell_type": "markdown",
   "metadata": {},
   "source": [
    "## Reading files"
   ]
  },
  {
   "cell_type": "code",
   "execution_count": 37,
   "metadata": {},
   "outputs": [],
   "source": [
    "\n",
    "i_data = pd.read_csv(\"C:/Users/Arkaprabha_B/Desktop/train_data.csv\")\n",
    "t_data = pd.read_csv(\"C:/Users/Arkaprabha_B/Desktop/test_data.csv\")"
   ]
  },
  {
   "cell_type": "markdown",
   "metadata": {},
   "source": [
    "## Summary of Train Data"
   ]
  },
  {
   "cell_type": "code",
   "execution_count": 39,
   "metadata": {},
   "outputs": [
    {
     "name": "stdout",
     "output_type": "stream",
     "text": [
      "(31587, 18)\n"
     ]
    }
   ],
   "source": [
    "i_data.describe()\n",
    "print(i_data.shape)"
   ]
  },
  {
   "cell_type": "code",
   "execution_count": 40,
   "metadata": {},
   "outputs": [
    {
     "data": {
      "text/html": [
       "<div>\n",
       "<style scoped>\n",
       "    .dataframe tbody tr th:only-of-type {\n",
       "        vertical-align: middle;\n",
       "    }\n",
       "\n",
       "    .dataframe tbody tr th {\n",
       "        vertical-align: top;\n",
       "    }\n",
       "\n",
       "    .dataframe thead th {\n",
       "        text-align: right;\n",
       "    }\n",
       "</style>\n",
       "<table border=\"1\" class=\"dataframe\">\n",
       "  <thead>\n",
       "    <tr style=\"text-align: right;\">\n",
       "      <th></th>\n",
       "      <th>index</th>\n",
       "      <th>age</th>\n",
       "      <th>working_sector</th>\n",
       "      <th>financial_weight</th>\n",
       "      <th>qualification</th>\n",
       "      <th>years_of_education</th>\n",
       "      <th>tax_paid</th>\n",
       "      <th>loan_taken</th>\n",
       "      <th>marital_status</th>\n",
       "      <th>occupation</th>\n",
       "      <th>relationship</th>\n",
       "      <th>ethnicity</th>\n",
       "      <th>gender</th>\n",
       "      <th>gain</th>\n",
       "      <th>loss</th>\n",
       "      <th>working_hours</th>\n",
       "      <th>country</th>\n",
       "      <th>target</th>\n",
       "    </tr>\n",
       "  </thead>\n",
       "  <tbody>\n",
       "    <tr>\n",
       "      <th>0</th>\n",
       "      <td>1</td>\n",
       "      <td>39.0</td>\n",
       "      <td>state</td>\n",
       "      <td>77516.0</td>\n",
       "      <td>Bachelors</td>\n",
       "      <td>13</td>\n",
       "      <td>NaN</td>\n",
       "      <td>0</td>\n",
       "      <td>Never-married</td>\n",
       "      <td>clerical</td>\n",
       "      <td>Not-in-family</td>\n",
       "      <td>White</td>\n",
       "      <td>Male</td>\n",
       "      <td>2174.0</td>\n",
       "      <td>0.0</td>\n",
       "      <td>40.0</td>\n",
       "      <td>United-States</td>\n",
       "      <td>0</td>\n",
       "    </tr>\n",
       "    <tr>\n",
       "      <th>1</th>\n",
       "      <td>2</td>\n",
       "      <td>50.0</td>\n",
       "      <td>self_employed</td>\n",
       "      <td>83311.0</td>\n",
       "      <td>Bachelors</td>\n",
       "      <td>13</td>\n",
       "      <td>NaN</td>\n",
       "      <td>0</td>\n",
       "      <td>Married-civilian</td>\n",
       "      <td>managerial</td>\n",
       "      <td>Husband</td>\n",
       "      <td>White</td>\n",
       "      <td>Male</td>\n",
       "      <td>0.0</td>\n",
       "      <td>0.0</td>\n",
       "      <td>13.0</td>\n",
       "      <td>United-States</td>\n",
       "      <td>0</td>\n",
       "    </tr>\n",
       "    <tr>\n",
       "      <th>2</th>\n",
       "      <td>3</td>\n",
       "      <td>38.0</td>\n",
       "      <td>private</td>\n",
       "      <td>215646.0</td>\n",
       "      <td>HS-grad</td>\n",
       "      <td>9</td>\n",
       "      <td>NaN</td>\n",
       "      <td>0</td>\n",
       "      <td>Divorced</td>\n",
       "      <td>cleaner</td>\n",
       "      <td>Not-in-family</td>\n",
       "      <td>White</td>\n",
       "      <td>Male</td>\n",
       "      <td>0.0</td>\n",
       "      <td>0.0</td>\n",
       "      <td>40.0</td>\n",
       "      <td>United-States</td>\n",
       "      <td>0</td>\n",
       "    </tr>\n",
       "    <tr>\n",
       "      <th>3</th>\n",
       "      <td>4</td>\n",
       "      <td>53.0</td>\n",
       "      <td>private</td>\n",
       "      <td>234721.0</td>\n",
       "      <td>11th</td>\n",
       "      <td>7</td>\n",
       "      <td>NaN</td>\n",
       "      <td>0</td>\n",
       "      <td>Married-civilian</td>\n",
       "      <td>cleaner</td>\n",
       "      <td>Husband</td>\n",
       "      <td>Black</td>\n",
       "      <td>Male</td>\n",
       "      <td>0.0</td>\n",
       "      <td>0.0</td>\n",
       "      <td>40.0</td>\n",
       "      <td>United-States</td>\n",
       "      <td>0</td>\n",
       "    </tr>\n",
       "    <tr>\n",
       "      <th>4</th>\n",
       "      <td>5</td>\n",
       "      <td>28.0</td>\n",
       "      <td>private</td>\n",
       "      <td>338409.0</td>\n",
       "      <td>Bachelors</td>\n",
       "      <td>13</td>\n",
       "      <td>NaN</td>\n",
       "      <td>0</td>\n",
       "      <td>Married-civilian</td>\n",
       "      <td>specialty</td>\n",
       "      <td>Wife</td>\n",
       "      <td>Black</td>\n",
       "      <td>Female</td>\n",
       "      <td>0.0</td>\n",
       "      <td>0.0</td>\n",
       "      <td>40.0</td>\n",
       "      <td>Cuba</td>\n",
       "      <td>0</td>\n",
       "    </tr>\n",
       "  </tbody>\n",
       "</table>\n",
       "</div>"
      ],
      "text/plain": [
       "   index   age working_sector  financial_weight qualification  \\\n",
       "0      1  39.0          state           77516.0     Bachelors   \n",
       "1      2  50.0  self_employed           83311.0     Bachelors   \n",
       "2      3  38.0        private          215646.0       HS-grad   \n",
       "3      4  53.0        private          234721.0          11th   \n",
       "4      5  28.0        private          338409.0     Bachelors   \n",
       "\n",
       "   years_of_education  tax_paid  loan_taken    marital_status  occupation  \\\n",
       "0                  13       NaN           0     Never-married    clerical   \n",
       "1                  13       NaN           0  Married-civilian  managerial   \n",
       "2                   9       NaN           0          Divorced     cleaner   \n",
       "3                   7       NaN           0  Married-civilian     cleaner   \n",
       "4                  13       NaN           0  Married-civilian   specialty   \n",
       "\n",
       "     relationship ethnicity   gender    gain  loss  working_hours  \\\n",
       "0   Not-in-family     White     Male  2174.0   0.0           40.0   \n",
       "1         Husband     White     Male     0.0   0.0           13.0   \n",
       "2   Not-in-family     White     Male     0.0   0.0           40.0   \n",
       "3         Husband     Black     Male     0.0   0.0           40.0   \n",
       "4            Wife     Black   Female     0.0   0.0           40.0   \n",
       "\n",
       "          country  target  \n",
       "0   United-States       0  \n",
       "1   United-States       0  \n",
       "2   United-States       0  \n",
       "3   United-States       0  \n",
       "4            Cuba       0  "
      ]
     },
     "execution_count": 40,
     "metadata": {},
     "output_type": "execute_result"
    }
   ],
   "source": [
    "i_data.head(5)"
   ]
  },
  {
   "cell_type": "markdown",
   "metadata": {},
   "source": [
    "## Summary of test Data (Target coulmn will be absent so 17 columns)"
   ]
  },
  {
   "cell_type": "code",
   "execution_count": 41,
   "metadata": {},
   "outputs": [
    {
     "name": "stdout",
     "output_type": "stream",
     "text": [
      "(976, 17)\n"
     ]
    }
   ],
   "source": [
    "t_data.describe()\n",
    "print(t_data.shape)"
   ]
  },
  {
   "cell_type": "code",
   "execution_count": 42,
   "metadata": {},
   "outputs": [
    {
     "data": {
      "text/html": [
       "<div>\n",
       "<style scoped>\n",
       "    .dataframe tbody tr th:only-of-type {\n",
       "        vertical-align: middle;\n",
       "    }\n",
       "\n",
       "    .dataframe tbody tr th {\n",
       "        vertical-align: top;\n",
       "    }\n",
       "\n",
       "    .dataframe thead th {\n",
       "        text-align: right;\n",
       "    }\n",
       "</style>\n",
       "<table border=\"1\" class=\"dataframe\">\n",
       "  <thead>\n",
       "    <tr style=\"text-align: right;\">\n",
       "      <th></th>\n",
       "      <th>index</th>\n",
       "      <th>age</th>\n",
       "      <th>working_sector</th>\n",
       "      <th>financial_weight</th>\n",
       "      <th>qualification</th>\n",
       "      <th>years_of_education</th>\n",
       "      <th>tax_paid</th>\n",
       "      <th>loan_taken</th>\n",
       "      <th>marital_status</th>\n",
       "      <th>occupation</th>\n",
       "      <th>relationship</th>\n",
       "      <th>ethnicity</th>\n",
       "      <th>gender</th>\n",
       "      <th>gain</th>\n",
       "      <th>loss</th>\n",
       "      <th>working_hours</th>\n",
       "      <th>country</th>\n",
       "    </tr>\n",
       "  </thead>\n",
       "  <tbody>\n",
       "    <tr>\n",
       "      <th>0</th>\n",
       "      <td>31588</td>\n",
       "      <td>28</td>\n",
       "      <td>private</td>\n",
       "      <td>183175</td>\n",
       "      <td>Some-college</td>\n",
       "      <td>10</td>\n",
       "      <td>5491.305588</td>\n",
       "      <td>1</td>\n",
       "      <td>Divorced</td>\n",
       "      <td>clerical</td>\n",
       "      <td>Not-in-family</td>\n",
       "      <td>White</td>\n",
       "      <td>Female</td>\n",
       "      <td>0</td>\n",
       "      <td>0</td>\n",
       "      <td>40</td>\n",
       "      <td>United-States</td>\n",
       "    </tr>\n",
       "    <tr>\n",
       "      <th>1</th>\n",
       "      <td>31589</td>\n",
       "      <td>29</td>\n",
       "      <td>local_body</td>\n",
       "      <td>115585</td>\n",
       "      <td>Some-college</td>\n",
       "      <td>10</td>\n",
       "      <td>3456.560000</td>\n",
       "      <td>0</td>\n",
       "      <td>Never-married</td>\n",
       "      <td>cleaner</td>\n",
       "      <td>Not-in-family</td>\n",
       "      <td>White</td>\n",
       "      <td>Male</td>\n",
       "      <td>0</td>\n",
       "      <td>0</td>\n",
       "      <td>50</td>\n",
       "      <td>United-States</td>\n",
       "    </tr>\n",
       "    <tr>\n",
       "      <th>2</th>\n",
       "      <td>31590</td>\n",
       "      <td>37</td>\n",
       "      <td>private</td>\n",
       "      <td>254202</td>\n",
       "      <td>Bachelors</td>\n",
       "      <td>13</td>\n",
       "      <td>3321.670000</td>\n",
       "      <td>0</td>\n",
       "      <td>Married-civilian</td>\n",
       "      <td>sales</td>\n",
       "      <td>Husband</td>\n",
       "      <td>White</td>\n",
       "      <td>Male</td>\n",
       "      <td>0</td>\n",
       "      <td>0</td>\n",
       "      <td>50</td>\n",
       "      <td>United-States</td>\n",
       "    </tr>\n",
       "    <tr>\n",
       "      <th>3</th>\n",
       "      <td>31591</td>\n",
       "      <td>71</td>\n",
       "      <td>self_employed</td>\n",
       "      <td>494223</td>\n",
       "      <td>Some-college</td>\n",
       "      <td>10</td>\n",
       "      <td>NaN</td>\n",
       "      <td>0</td>\n",
       "      <td>Separated</td>\n",
       "      <td>sales</td>\n",
       "      <td>Unmarried</td>\n",
       "      <td>Black</td>\n",
       "      <td>Male</td>\n",
       "      <td>0</td>\n",
       "      <td>1816</td>\n",
       "      <td>2</td>\n",
       "      <td>United-States</td>\n",
       "    </tr>\n",
       "    <tr>\n",
       "      <th>4</th>\n",
       "      <td>31592</td>\n",
       "      <td>27</td>\n",
       "      <td>private</td>\n",
       "      <td>253814</td>\n",
       "      <td>HS-grad</td>\n",
       "      <td>9</td>\n",
       "      <td>4840.481164</td>\n",
       "      <td>0</td>\n",
       "      <td>Married-non-resident</td>\n",
       "      <td>sales</td>\n",
       "      <td>Unmarried</td>\n",
       "      <td>White</td>\n",
       "      <td>Female</td>\n",
       "      <td>0</td>\n",
       "      <td>0</td>\n",
       "      <td>25</td>\n",
       "      <td>United-States</td>\n",
       "    </tr>\n",
       "  </tbody>\n",
       "</table>\n",
       "</div>"
      ],
      "text/plain": [
       "   index  age working_sector  financial_weight  qualification  \\\n",
       "0  31588   28        private            183175   Some-college   \n",
       "1  31589   29     local_body            115585   Some-college   \n",
       "2  31590   37        private            254202      Bachelors   \n",
       "3  31591   71  self_employed            494223   Some-college   \n",
       "4  31592   27        private            253814        HS-grad   \n",
       "\n",
       "   years_of_education     tax_paid  loan_taken        marital_status  \\\n",
       "0                  10  5491.305588           1              Divorced   \n",
       "1                  10  3456.560000           0         Never-married   \n",
       "2                  13  3321.670000           0      Married-civilian   \n",
       "3                  10          NaN           0             Separated   \n",
       "4                   9  4840.481164           0  Married-non-resident   \n",
       "\n",
       "  occupation    relationship ethnicity   gender  gain  loss  working_hours  \\\n",
       "0   clerical   Not-in-family     White   Female     0     0             40   \n",
       "1    cleaner   Not-in-family     White     Male     0     0             50   \n",
       "2      sales         Husband     White     Male     0     0             50   \n",
       "3      sales       Unmarried     Black     Male     0  1816              2   \n",
       "4      sales       Unmarried     White   Female     0     0             25   \n",
       "\n",
       "          country  \n",
       "0   United-States  \n",
       "1   United-States  \n",
       "2   United-States  \n",
       "3   United-States  \n",
       "4   United-States  "
      ]
     },
     "execution_count": 42,
     "metadata": {},
     "output_type": "execute_result"
    }
   ],
   "source": [
    "t_data.head(5)"
   ]
  },
  {
   "cell_type": "markdown",
   "metadata": {},
   "source": [
    "## Understanding Train Data"
   ]
  },
  {
   "cell_type": "code",
   "execution_count": 43,
   "metadata": {},
   "outputs": [
    {
     "data": {
      "text/plain": [
       "index                   int64\n",
       "age                   float64\n",
       "working_sector         object\n",
       "financial_weight      float64\n",
       "qualification          object\n",
       "years_of_education      int64\n",
       "tax_paid              float64\n",
       "loan_taken              int64\n",
       "marital_status         object\n",
       "occupation             object\n",
       "relationship           object\n",
       "ethnicity              object\n",
       "gender                 object\n",
       "gain                  float64\n",
       "loss                  float64\n",
       "working_hours         float64\n",
       "country                object\n",
       "target                  int64\n",
       "dtype: object"
      ]
     },
     "execution_count": 43,
     "metadata": {},
     "output_type": "execute_result"
    }
   ],
   "source": [
    "i_data.dtypes"
   ]
  },
  {
   "cell_type": "markdown",
   "metadata": {},
   "source": [
    "## 10 numeric columns (including target)"
   ]
  },
  {
   "cell_type": "code",
   "execution_count": 44,
   "metadata": {},
   "outputs": [
    {
     "data": {
      "text/html": [
       "<div>\n",
       "<style scoped>\n",
       "    .dataframe tbody tr th:only-of-type {\n",
       "        vertical-align: middle;\n",
       "    }\n",
       "\n",
       "    .dataframe tbody tr th {\n",
       "        vertical-align: top;\n",
       "    }\n",
       "\n",
       "    .dataframe thead th {\n",
       "        text-align: right;\n",
       "    }\n",
       "</style>\n",
       "<table border=\"1\" class=\"dataframe\">\n",
       "  <thead>\n",
       "    <tr style=\"text-align: right;\">\n",
       "      <th></th>\n",
       "      <th>index</th>\n",
       "      <th>age</th>\n",
       "      <th>financial_weight</th>\n",
       "      <th>years_of_education</th>\n",
       "      <th>tax_paid</th>\n",
       "      <th>loan_taken</th>\n",
       "      <th>gain</th>\n",
       "      <th>loss</th>\n",
       "      <th>working_hours</th>\n",
       "      <th>target</th>\n",
       "    </tr>\n",
       "  </thead>\n",
       "  <tbody>\n",
       "    <tr>\n",
       "      <th>count</th>\n",
       "      <td>31587.000000</td>\n",
       "      <td>31585.000000</td>\n",
       "      <td>3.158500e+04</td>\n",
       "      <td>31587.000000</td>\n",
       "      <td>2381.000000</td>\n",
       "      <td>31587.000000</td>\n",
       "      <td>31585.000000</td>\n",
       "      <td>31585.000000</td>\n",
       "      <td>31585.000000</td>\n",
       "      <td>31587.000000</td>\n",
       "    </tr>\n",
       "    <tr>\n",
       "      <th>mean</th>\n",
       "      <td>15794.000000</td>\n",
       "      <td>38.560266</td>\n",
       "      <td>1.899756e+05</td>\n",
       "      <td>10.079146</td>\n",
       "      <td>6286.380419</td>\n",
       "      <td>0.050242</td>\n",
       "      <td>1090.173405</td>\n",
       "      <td>87.166566</td>\n",
       "      <td>40.439607</td>\n",
       "      <td>0.241207</td>\n",
       "    </tr>\n",
       "    <tr>\n",
       "      <th>std</th>\n",
       "      <td>9118.525813</td>\n",
       "      <td>13.632411</td>\n",
       "      <td>1.057192e+05</td>\n",
       "      <td>2.571846</td>\n",
       "      <td>2033.680490</td>\n",
       "      <td>0.218448</td>\n",
       "      <td>7444.382583</td>\n",
       "      <td>402.863825</td>\n",
       "      <td>12.368394</td>\n",
       "      <td>0.427822</td>\n",
       "    </tr>\n",
       "    <tr>\n",
       "      <th>min</th>\n",
       "      <td>1.000000</td>\n",
       "      <td>17.000000</td>\n",
       "      <td>1.228500e+04</td>\n",
       "      <td>1.000000</td>\n",
       "      <td>2010.469174</td>\n",
       "      <td>0.000000</td>\n",
       "      <td>0.000000</td>\n",
       "      <td>0.000000</td>\n",
       "      <td>1.000000</td>\n",
       "      <td>0.000000</td>\n",
       "    </tr>\n",
       "    <tr>\n",
       "      <th>25%</th>\n",
       "      <td>7897.500000</td>\n",
       "      <td>28.000000</td>\n",
       "      <td>1.178810e+05</td>\n",
       "      <td>9.000000</td>\n",
       "      <td>5004.099923</td>\n",
       "      <td>0.000000</td>\n",
       "      <td>0.000000</td>\n",
       "      <td>0.000000</td>\n",
       "      <td>40.000000</td>\n",
       "      <td>0.000000</td>\n",
       "    </tr>\n",
       "    <tr>\n",
       "      <th>50%</th>\n",
       "      <td>15794.000000</td>\n",
       "      <td>37.000000</td>\n",
       "      <td>1.785640e+05</td>\n",
       "      <td>10.000000</td>\n",
       "      <td>6381.934626</td>\n",
       "      <td>0.000000</td>\n",
       "      <td>0.000000</td>\n",
       "      <td>0.000000</td>\n",
       "      <td>40.000000</td>\n",
       "      <td>0.000000</td>\n",
       "    </tr>\n",
       "    <tr>\n",
       "      <th>75%</th>\n",
       "      <td>23690.500000</td>\n",
       "      <td>48.000000</td>\n",
       "      <td>2.374660e+05</td>\n",
       "      <td>12.000000</td>\n",
       "      <td>7967.520312</td>\n",
       "      <td>0.000000</td>\n",
       "      <td>0.000000</td>\n",
       "      <td>0.000000</td>\n",
       "      <td>45.000000</td>\n",
       "      <td>0.000000</td>\n",
       "    </tr>\n",
       "    <tr>\n",
       "      <th>max</th>\n",
       "      <td>31587.000000</td>\n",
       "      <td>90.000000</td>\n",
       "      <td>1.484705e+06</td>\n",
       "      <td>16.000000</td>\n",
       "      <td>9997.840369</td>\n",
       "      <td>1.000000</td>\n",
       "      <td>99999.000000</td>\n",
       "      <td>4356.000000</td>\n",
       "      <td>99.000000</td>\n",
       "      <td>1.000000</td>\n",
       "    </tr>\n",
       "  </tbody>\n",
       "</table>\n",
       "</div>"
      ],
      "text/plain": [
       "              index           age  financial_weight  years_of_education  \\\n",
       "count  31587.000000  31585.000000      3.158500e+04        31587.000000   \n",
       "mean   15794.000000     38.560266      1.899756e+05           10.079146   \n",
       "std     9118.525813     13.632411      1.057192e+05            2.571846   \n",
       "min        1.000000     17.000000      1.228500e+04            1.000000   \n",
       "25%     7897.500000     28.000000      1.178810e+05            9.000000   \n",
       "50%    15794.000000     37.000000      1.785640e+05           10.000000   \n",
       "75%    23690.500000     48.000000      2.374660e+05           12.000000   \n",
       "max    31587.000000     90.000000      1.484705e+06           16.000000   \n",
       "\n",
       "          tax_paid    loan_taken          gain          loss  working_hours  \\\n",
       "count  2381.000000  31587.000000  31585.000000  31585.000000   31585.000000   \n",
       "mean   6286.380419      0.050242   1090.173405     87.166566      40.439607   \n",
       "std    2033.680490      0.218448   7444.382583    402.863825      12.368394   \n",
       "min    2010.469174      0.000000      0.000000      0.000000       1.000000   \n",
       "25%    5004.099923      0.000000      0.000000      0.000000      40.000000   \n",
       "50%    6381.934626      0.000000      0.000000      0.000000      40.000000   \n",
       "75%    7967.520312      0.000000      0.000000      0.000000      45.000000   \n",
       "max    9997.840369      1.000000  99999.000000   4356.000000      99.000000   \n",
       "\n",
       "             target  \n",
       "count  31587.000000  \n",
       "mean       0.241207  \n",
       "std        0.427822  \n",
       "min        0.000000  \n",
       "25%        0.000000  \n",
       "50%        0.000000  \n",
       "75%        0.000000  \n",
       "max        1.000000  "
      ]
     },
     "execution_count": 44,
     "metadata": {},
     "output_type": "execute_result"
    }
   ],
   "source": [
    "i_data.describe()\n"
   ]
  },
  {
   "cell_type": "markdown",
   "metadata": {},
   "source": [
    "##  8 categorical columns "
   ]
  },
  {
   "cell_type": "code",
   "execution_count": 45,
   "metadata": {},
   "outputs": [
    {
     "data": {
      "text/html": [
       "<div>\n",
       "<style scoped>\n",
       "    .dataframe tbody tr th:only-of-type {\n",
       "        vertical-align: middle;\n",
       "    }\n",
       "\n",
       "    .dataframe tbody tr th {\n",
       "        vertical-align: top;\n",
       "    }\n",
       "\n",
       "    .dataframe thead th {\n",
       "        text-align: right;\n",
       "    }\n",
       "</style>\n",
       "<table border=\"1\" class=\"dataframe\">\n",
       "  <thead>\n",
       "    <tr style=\"text-align: right;\">\n",
       "      <th></th>\n",
       "      <th>working_sector</th>\n",
       "      <th>qualification</th>\n",
       "      <th>marital_status</th>\n",
       "      <th>occupation</th>\n",
       "      <th>relationship</th>\n",
       "      <th>ethnicity</th>\n",
       "      <th>gender</th>\n",
       "      <th>country</th>\n",
       "    </tr>\n",
       "  </thead>\n",
       "  <tbody>\n",
       "    <tr>\n",
       "      <th>count</th>\n",
       "      <td>29812</td>\n",
       "      <td>31585</td>\n",
       "      <td>31587</td>\n",
       "      <td>29805</td>\n",
       "      <td>31585</td>\n",
       "      <td>31585</td>\n",
       "      <td>31585</td>\n",
       "      <td>31019</td>\n",
       "    </tr>\n",
       "    <tr>\n",
       "      <th>unique</th>\n",
       "      <td>7</td>\n",
       "      <td>16</td>\n",
       "      <td>7</td>\n",
       "      <td>14</td>\n",
       "      <td>6</td>\n",
       "      <td>5</td>\n",
       "      <td>2</td>\n",
       "      <td>41</td>\n",
       "    </tr>\n",
       "    <tr>\n",
       "      <th>top</th>\n",
       "      <td>private</td>\n",
       "      <td>HS-grad</td>\n",
       "      <td>Married-civilian</td>\n",
       "      <td>specialty</td>\n",
       "      <td>Husband</td>\n",
       "      <td>White</td>\n",
       "      <td>Male</td>\n",
       "      <td>United-States</td>\n",
       "    </tr>\n",
       "    <tr>\n",
       "      <th>freq</th>\n",
       "      <td>22033</td>\n",
       "      <td>10198</td>\n",
       "      <td>14540</td>\n",
       "      <td>3997</td>\n",
       "      <td>12815</td>\n",
       "      <td>26998</td>\n",
       "      <td>21136</td>\n",
       "      <td>28295</td>\n",
       "    </tr>\n",
       "  </tbody>\n",
       "</table>\n",
       "</div>"
      ],
      "text/plain": [
       "       working_sector qualification    marital_status occupation relationship  \\\n",
       "count           29812         31585             31587      29805        31585   \n",
       "unique              7            16                 7         14            6   \n",
       "top           private       HS-grad  Married-civilian  specialty      Husband   \n",
       "freq            22033         10198             14540       3997        12815   \n",
       "\n",
       "       ethnicity gender         country  \n",
       "count      31585  31585           31019  \n",
       "unique         5      2              41  \n",
       "top        White   Male   United-States  \n",
       "freq       26998  21136           28295  "
      ]
     },
     "execution_count": 45,
     "metadata": {},
     "output_type": "execute_result"
    }
   ],
   "source": [
    "i_data.describe(include=['object'])\n"
   ]
  },
  {
   "cell_type": "markdown",
   "metadata": {},
   "source": [
    "## Distribution of dependent variable"
   ]
  },
  {
   "cell_type": "code",
   "execution_count": 46,
   "metadata": {},
   "outputs": [
    {
     "data": {
      "image/png": "[encoded data removed]",
      "text/plain": [
       "<Figure size 432x288 with 1 Axes>"
      ]
     },
     "metadata": {
      "needs_background": "light"
     },
     "output_type": "display_data"
    },
    {
     "name": "stdout",
     "output_type": "stream",
     "text": [
      "0    23968\n",
      "1     7619\n",
      "Name: target, dtype: int64\n"
     ]
    }
   ],
   "source": [
    "\n",
    "sns.countplot(x='target',data=i_data)\n",
    "plt.show()\n",
    "\n",
    "# What are the counts?\n",
    "print(i_data.target.value_counts())\n"
   ]
  },
  {
   "cell_type": "markdown",
   "metadata": {},
   "source": [
    "## Type Casting object to category "
   ]
  },
  {
   "cell_type": "code",
   "execution_count": 47,
   "metadata": {},
   "outputs": [],
   "source": [
    "for col in ['working_sector', 'qualification', 'marital_status', 'occupation', 'relationship', 'ethnicity', 'gender', 'country']:\n",
    "    i_data[col] = i_data[col].astype('category')"
   ]
  },
  {
   "cell_type": "code",
   "execution_count": 48,
   "metadata": {},
   "outputs": [
    {
     "data": {
      "text/plain": [
       "index                    int64\n",
       "age                    float64\n",
       "working_sector        category\n",
       "financial_weight       float64\n",
       "qualification         category\n",
       "years_of_education       int64\n",
       "tax_paid               float64\n",
       "loan_taken               int64\n",
       "marital_status        category\n",
       "occupation            category\n",
       "relationship          category\n",
       "ethnicity             category\n",
       "gender                category\n",
       "gain                   float64\n",
       "loss                   float64\n",
       "working_hours          float64\n",
       "country               category\n",
       "target                   int64\n",
       "dtype: object"
      ]
     },
     "execution_count": 48,
     "metadata": {},
     "output_type": "execute_result"
    }
   ],
   "source": [
    "i_data.dtypes"
   ]
  },
  {
   "cell_type": "markdown",
   "metadata": {},
   "source": [
    "## Splitting numerical and categorical coulmns of train data (i_data)"
   ]
  },
  {
   "cell_type": "code",
   "execution_count": 49,
   "metadata": {},
   "outputs": [
    {
     "name": "stdout",
     "output_type": "stream",
     "text": [
      "['working_sector', 'qualification', 'marital_status', 'occupation', 'relationship', 'ethnicity', 'gender', 'country']\n",
      "\n",
      "\n",
      "['age', 'financial_weight', 'gain', 'index', 'loan_taken', 'loss', 'target', 'tax_paid', 'working_hours', 'years_of_education']\n"
     ]
    },
    {
     "data": {
      "text/plain": [
       "'target'"
      ]
     },
     "execution_count": 49,
     "metadata": {},
     "output_type": "execute_result"
    }
   ],
   "source": [
    "cat_attr = list(i_data.select_dtypes(\"category\").columns)\n",
    "num_attr = list(i_data.columns.difference(cat_attr))\n",
    "\n",
    "print (cat_attr)\n",
    "print(\"\\n\")\n",
    "print(num_attr)\n",
    "num_attr.pop(6)"
   ]
  },
  {
   "cell_type": "markdown",
   "metadata": {},
   "source": [
    "## Handling Missing Values"
   ]
  },
  {
   "cell_type": "code",
   "execution_count": 50,
   "metadata": {},
   "outputs": [
    {
     "data": {
      "text/plain": [
       "index                     0\n",
       "age                       2\n",
       "working_sector         1775\n",
       "financial_weight          2\n",
       "qualification             2\n",
       "years_of_education        0\n",
       "tax_paid              29206\n",
       "loan_taken                0\n",
       "marital_status            0\n",
       "occupation             1782\n",
       "relationship              2\n",
       "ethnicity                 2\n",
       "gender                    2\n",
       "gain                      2\n",
       "loss                      2\n",
       "working_hours             2\n",
       "country                 568\n",
       "target                    0\n",
       "dtype: int64"
      ]
     },
     "execution_count": 50,
     "metadata": {},
     "output_type": "execute_result"
    }
   ],
   "source": [
    "i_data.isnull().sum()"
   ]
  },
  {
   "cell_type": "code",
   "execution_count": 51,
   "metadata": {},
   "outputs": [
    {
     "name": "stdout",
     "output_type": "stream",
     "text": [
      "Printing columns with missing values \n",
      "\n",
      "\n"
     ]
    },
    {
     "data": {
      "text/plain": [
       "Index(['age', 'working_sector', 'financial_weight', 'qualification',\n",
       "       'tax_paid', 'occupation', 'relationship', 'ethnicity', 'gender', 'gain',\n",
       "       'loss', 'working_hours', 'country'],\n",
       "      dtype='object')"
      ]
     },
     "execution_count": 51,
     "metadata": {},
     "output_type": "execute_result"
    }
   ],
   "source": [
    "print(\"Printing columns with missing values \")\n",
    "print(\"\\n\")\n",
    "missing_cols = i_data.columns[i_data.isnull().any()]\n",
    "missing_cols"
   ]
  },
  {
   "cell_type": "code",
   "execution_count": 31,
   "metadata": {},
   "outputs": [
    {
     "name": "stdout",
     "output_type": "stream",
     "text": [
      "Requirement already satisfied: imblearn in c:\\users\\arkaprabha_b\\appdata\\local\\continuum\\anaconda3\\lib\\site-packages (0.0)\n",
      "Requirement already satisfied: imbalanced-learn in c:\\users\\arkaprabha_b\\appdata\\local\\continuum\\anaconda3\\lib\\site-packages (from imblearn) (0.5.0)\n",
      "Requirement already satisfied: scipy>=0.17 in c:\\users\\arkaprabha_b\\appdata\\local\\continuum\\anaconda3\\lib\\site-packages (from imbalanced-learn->imblearn) (1.1.0)\n",
      "Requirement already satisfied: scikit-learn>=0.21 in c:\\users\\arkaprabha_b\\appdata\\local\\continuum\\anaconda3\\lib\\site-packages (from imbalanced-learn->imblearn) (0.21.3)\n",
      "Requirement already satisfied: joblib>=0.11 in c:\\users\\arkaprabha_b\\appdata\\local\\continuum\\anaconda3\\lib\\site-packages (from imbalanced-learn->imblearn) (0.13.2)\n",
      "Requirement already satisfied: numpy>=1.11 in c:\\users\\arkaprabha_b\\appdata\\local\\continuum\\anaconda3\\lib\\site-packages (from imbalanced-learn->imblearn) (1.15.4)\n"
     ]
    }
   ],
   "source": [
    "!pip install imblearn"
   ]
  },
  {
   "cell_type": "markdown",
   "metadata": {},
   "source": [
    "## Machine Learning Pipeline "
   ]
  },
  {
   "cell_type": "code",
   "execution_count": 52,
   "metadata": {},
   "outputs": [],
   "source": [
    "numeric_transformer = Pipeline(steps=[\n",
    "    ('imputer', SimpleImputer(strategy='median')),\n",
    "    ('scaler', StandardScaler())])\n",
    "# Doubt1: Imputation and Standardisation on the same step?\n",
    "\n",
    "categorical_transformer = Pipeline(steps=[\n",
    "    ('imputer', SimpleImputer(strategy='most_frequent', fill_value='missing')),\n",
    "    ('onehot', OneHotEncoder(handle_unknown='ignore'))])\n",
    "# Row will be ignored\n",
    "\n",
    "preprocessor = ColumnTransformer(\n",
    "    transformers=[\n",
    "        ('num', numeric_transformer, num_attr),\n",
    "        ('cat', categorical_transformer, cat_attr)])"
   ]
  }
 ],
 "metadata": {
  "kernelspec": {
   "display_name": "Python 3",
   "language": "python",
   "name": "python3"
  },
  "language_info": {
   "codemirror_mode": {
    "name": "ipython",
    "version": 3
   },
   "file_extension": ".py",
   "mimetype": "text/x-python",
   "name": "python",
   "nbconvert_exporter": "python",
   "pygments_lexer": "ipython3",
   "version": "3.7.1"
  }
 },
 "nbformat": 4,
 "nbformat_minor": 2
}
